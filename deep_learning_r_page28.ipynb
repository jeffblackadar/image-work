{
  "nbformat": 4,
  "nbformat_minor": 0,
  "metadata": {
    "colab": {
      "name": "deep_learning_r_page28.ipynb",
      "version": "0.3.2",
      "provenance": [],
      "collapsed_sections": [],
      "include_colab_link": true
    },
    "language_info": {
      "codemirror_mode": "r",
      "file_extension": ".r",
      "mimetype": "text/x-r-source",
      "name": "R",
      "pygments_lexer": "r",
      "version": "3.3.1"
    },
    "kernelspec": {
      "display_name": "R",
      "language": "R",
      "name": "ir"
    },
    "accelerator": "TPU"
  },
  "cells": [
    {
      "cell_type": "markdown",
      "metadata": {
        "id": "view-in-github",
        "colab_type": "text"
      },
      "source": [
        "<a href=\"https://colab.research.google.com/github/jeffblackadar/image_work/blob/master/deep_learning_r_page28.ipynb\" target=\"_parent\"><img src=\"https://colab.research.google.com/assets/colab-badge.svg\" alt=\"Open In Colab\"/></a>"
      ]
    },
    {
      "cell_type": "markdown",
      "metadata": {
        "id": "tv0wPn4jY8Y8",
        "colab_type": "text"
      },
      "source": [
        "Code without visible output:"
      ]
    },
    {
      "cell_type": "markdown",
      "metadata": {
        "id": "5yYHcyfhglua",
        "colab_type": "text"
      },
      "source": [
        "This program is from:\n",
        "François Chollet, J. J. Allaire, Deep Learning with R, January 2018  ISBN 9781617295546, Manning Publications, \n",
        "https://www.manning.com/books/deep-learning-with-r.\n",
        "\n"
      ]
    },
    {
      "cell_type": "code",
      "metadata": {
        "id": "AVypctfMY8ZO",
        "colab_type": "code",
        "colab": {
          "base_uri": "https://localhost:8080/",
          "height": 1000
        },
        "outputId": "b6b31eef-4b5e-41cc-d6b1-4e3c25d5d974"
      },
      "source": [
        "\n",
        "#install.packages(\"keras\")\n",
        "library(keras)\n",
        "mnist <- dataset_mnist()\n",
        "train_images <- mnist$train$x\n",
        "train_labels <- mnist$train$y\n",
        "test_images <- mnist$test$x\n",
        "test_labels <- mnist$test$y\n",
        "str(train_images)\n",
        "str(train_labels)\n",
        "str(test_images)\n",
        "str(test_labels)\n",
        "\n",
        "network <- keras_model_sequential() %>% layer_dense(units = 512, activation = \"relu\", input_shape = c(28*28)) %>% layer_dense(units=10,activation=\"softmax\")\n",
        "\n",
        "network %>% compile (optimizer = \"rmsprop\", loss = \"categorical_crossentropy\", metrics = c(\"accuracy\"))\n",
        "\n",
        "dim(train_images)\n",
        "print(\"slice:\")\n",
        "my_slice <- train_images[10:99,,]\n",
        "dim(my_slice)\n",
        "print(\"slice more detailed notation:\")\n",
        "my_slice <- train_images[10:99,1:28,1:28]\n",
        "dim(my_slice)\n",
        "\n",
        "print('\"For instance, in order to select 14 × 14 pixels in the bottom-right corner of all images, you do this:\"')\n",
        "my_slice <- train_images[, 15:28, 15:28]\n",
        "dim(my_slice)\n",
        "\n",
        "print('my_slice <- train_images[10:99,,] ...[10:99 is the batch axis or batch dimension')\n",
        "\n",
        "digit <- train_images[5,,]\n",
        "plot(as.raster(digit, max=255))\n",
        "\n",
        "train_images <- array_reshape(train_images,c(60000,28*28))\n",
        "dim(train_images)\n",
        "typeof(train_images)\n",
        "train_images <- train_images / 255\n",
        "test_images <- array_reshape(test_images,c(10000,28*28))\n",
        "test_images <- test_images / 255\n",
        "\n",
        "train_labels <- to_categorical(train_labels)\n",
        "test_labels <- to_categorical(test_labels)\n",
        "\n",
        "\n",
        "\n",
        "\n"
      ],
      "execution_count": 29,
      "outputs": [
        {
          "output_type": "stream",
          "text": [
            " int [1:60000, 1:28, 1:28] 0 0 0 0 0 0 0 0 0 0 ...\n",
            " int [1:60000(1d)] 5 0 4 1 9 2 1 3 1 4 ...\n",
            " int [1:10000, 1:28, 1:28] 0 0 0 0 0 0 0 0 0 0 ...\n",
            " int [1:10000(1d)] 7 2 1 0 4 1 4 9 5 9 ...\n"
          ],
          "name": "stdout"
        },
        {
          "output_type": "display_data",
          "data": {
            "text/plain": [
              "[1] 60000    28    28"
            ],
            "text/latex": "\\begin{enumerate*}\n\\item 60000\n\\item 28\n\\item 28\n\\end{enumerate*}\n",
            "text/markdown": "1. 60000\n2. 28\n3. 28\n\n\n",
            "text/html": [
              "<ol class=list-inline>\n",
              "\t<li>60000</li>\n",
              "\t<li>28</li>\n",
              "\t<li>28</li>\n",
              "</ol>\n"
            ]
          },
          "metadata": {
            "tags": []
          }
        },
        {
          "output_type": "stream",
          "text": [
            "[1] \"slice:\"\n"
          ],
          "name": "stdout"
        },
        {
          "output_type": "display_data",
          "data": {
            "text/plain": [
              "[1] 90 28 28"
            ],
            "text/latex": "\\begin{enumerate*}\n\\item 90\n\\item 28\n\\item 28\n\\end{enumerate*}\n",
            "text/markdown": "1. 90\n2. 28\n3. 28\n\n\n",
            "text/html": [
              "<ol class=list-inline>\n",
              "\t<li>90</li>\n",
              "\t<li>28</li>\n",
              "\t<li>28</li>\n",
              "</ol>\n"
            ]
          },
          "metadata": {
            "tags": []
          }
        },
        {
          "output_type": "stream",
          "text": [
            "[1] \"slice more detailed notation:\"\n"
          ],
          "name": "stdout"
        },
        {
          "output_type": "display_data",
          "data": {
            "text/plain": [
              "[1] 90 28 28"
            ],
            "text/latex": "\\begin{enumerate*}\n\\item 90\n\\item 28\n\\item 28\n\\end{enumerate*}\n",
            "text/markdown": "1. 90\n2. 28\n3. 28\n\n\n",
            "text/html": [
              "<ol class=list-inline>\n",
              "\t<li>90</li>\n",
              "\t<li>28</li>\n",
              "\t<li>28</li>\n",
              "</ol>\n"
            ]
          },
          "metadata": {
            "tags": []
          }
        },
        {
          "output_type": "stream",
          "text": [
            "[1] \"\\\"For instance, in order to select 14 × 14 pixels in the bottom-right corner of all images, you do this:\\\"\"\n"
          ],
          "name": "stdout"
        },
        {
          "output_type": "display_data",
          "data": {
            "text/plain": [
              "[1] 60000    14    14"
            ],
            "text/latex": "\\begin{enumerate*}\n\\item 60000\n\\item 14\n\\item 14\n\\end{enumerate*}\n",
            "text/markdown": "1. 60000\n2. 14\n3. 14\n\n\n",
            "text/html": [
              "<ol class=list-inline>\n",
              "\t<li>60000</li>\n",
              "\t<li>14</li>\n",
              "\t<li>14</li>\n",
              "</ol>\n"
            ]
          },
          "metadata": {
            "tags": []
          }
        },
        {
          "output_type": "stream",
          "text": [
            "[1] \"my_slice <- train_images[10:99,,] ...[10:99 is the batch axis or batch dimension\"\n"
          ],
          "name": "stdout"
        },
        {
          "output_type": "display_data",
          "data": {
            "text/plain": [
              "[1] 60000   784"
            ],
            "text/latex": "\\begin{enumerate*}\n\\item 60000\n\\item 784\n\\end{enumerate*}\n",
            "text/markdown": "1. 60000\n2. 784\n\n\n",
            "text/html": [
              "<ol class=list-inline>\n",
              "\t<li>60000</li>\n",
              "\t<li>784</li>\n",
              "</ol>\n"
            ]
          },
          "metadata": {
            "tags": []
          }
        },
        {
          "output_type": "display_data",
          "data": {
            "text/plain": [
              "[1] \"integer\""
            ],
            "text/latex": "'integer'",
            "text/markdown": "'integer'",
            "text/html": [
              "'integer'"
            ]
          },
          "metadata": {
            "tags": []
          }
        },
        {
          "output_type": "display_data",
          "data": {
            "image/png": "[encoded data removed]",
            "text/plain": [
              "plot without title"
            ]
          },
          "metadata": {
            "tags": []
          }
        }
      ]
    },
    {
      "cell_type": "code",
      "metadata": {
        "id": "b06lelsjFhZ8",
        "colab_type": "code",
        "colab": {}
      },
      "source": [
        ""
      ],
      "execution_count": 0,
      "outputs": []
    },
    {
      "cell_type": "code",
      "metadata": {
        "id": "oV0KWao5vIHG",
        "colab_type": "code",
        "colab": {}
      },
      "source": [
        "network %>% fit(train_images, train_labels, epochs=5,batch_size=128)\n"
      ],
      "execution_count": 0,
      "outputs": []
    },
    {
      "cell_type": "code",
      "metadata": {
        "id": "MZ36cdkVv-XD",
        "colab_type": "code",
        "colab": {
          "base_uri": "https://localhost:8080/",
          "height": 113
        },
        "outputId": "b472b0d4-8bd3-483e-d39c-d763e98768e4"
      },
      "source": [
        "metrics <- network %>% evaluate(test_images, test_labels)\n",
        "metrics"
      ],
      "execution_count": 7,
      "outputs": [
        {
          "output_type": "display_data",
          "data": {
            "text/plain": [
              "$loss\n",
              "[1] 0.1181731\n",
              "\n",
              "$acc\n",
              "[1] 0.9816\n"
            ],
            "text/latex": "\\begin{description}\n\\item[\\$loss] 0.11817310299804\n\\item[\\$acc] 0.981599986553192\n\\end{description}\n",
            "text/markdown": "$loss\n:   0.11817310299804\n$acc\n:   0.981599986553192\n\n\n",
            "text/html": [
              "<dl>\n",
              "\t<dt>$loss</dt>\n",
              "\t\t<dd>0.11817310299804</dd>\n",
              "\t<dt>$acc</dt>\n",
              "\t\t<dd>0.981599986553192</dd>\n",
              "</dl>\n"
            ]
          },
          "metadata": {
            "tags": []
          }
        }
      ]
    },
    {
      "cell_type": "code",
      "metadata": {
        "id": "dnJojBaMwkWI",
        "colab_type": "code",
        "colab": {
          "base_uri": "https://localhost:8080/",
          "height": 215
        },
        "outputId": "89c1978d-63bb-471a-f2cb-d62da44343f5"
      },
      "source": [
        "network %>% predict_classes(test_images[11:20,])"
      ],
      "execution_count": 10,
      "outputs": [
        {
          "output_type": "display_data",
          "data": {
            "text/plain": [
              " [1] 0 6 9 0 1 5 9 7 3 4"
            ],
            "text/latex": "\\begin{enumerate*}\n\\item 0\n\\item 6\n\\item 9\n\\item 0\n\\item 1\n\\item 5\n\\item 9\n\\item 7\n\\item 3\n\\item 4\n\\end{enumerate*}\n",
            "text/markdown": "1. 0\n2. 6\n3. 9\n4. 0\n5. 1\n6. 5\n7. 9\n8. 7\n9. 3\n10. 4\n\n\n",
            "text/html": [
              "<ol class=list-inline>\n",
              "\t<li>0</li>\n",
              "\t<li>6</li>\n",
              "\t<li>9</li>\n",
              "\t<li>0</li>\n",
              "\t<li>1</li>\n",
              "\t<li>5</li>\n",
              "\t<li>9</li>\n",
              "\t<li>7</li>\n",
              "\t<li>3</li>\n",
              "\t<li>4</li>\n",
              "</ol>\n"
            ]
          },
          "metadata": {
            "tags": []
          }
        }
      ]
    },
    {
      "cell_type": "markdown",
      "metadata": {
        "id": "bJkvncUuy7oN",
        "colab_type": "text"
      },
      "source": [
        "Vector\n",
        "\n",
        "Rank: 1, 1D tensor, Axis: 1\n",
        "\n",
        "\n",
        "\n"
      ]
    },
    {
      "cell_type": "markdown",
      "metadata": {
        "id": "JUsJBuchziHa",
        "colab_type": "text"
      },
      "source": [
        ""
      ]
    },
    {
      "cell_type": "code",
      "metadata": {
        "id": "TSf8u9oKytVd",
        "colab_type": "code",
        "colab": {
          "base_uri": "https://localhost:8080/",
          "height": 51
        },
        "outputId": "882dc0fc-4ec7-4360-960e-7a84c58e1d0b"
      },
      "source": [
        "\n",
        "x <- c(12,3,6,14,10)\n",
        "str(x)\n",
        "dim(as.array(x))\n"
      ],
      "execution_count": 11,
      "outputs": [
        {
          "output_type": "stream",
          "text": [
            " num [1:5] 12 3 6 14 10\n"
          ],
          "name": "stdout"
        },
        {
          "output_type": "display_data",
          "data": {
            "text/plain": [
              "[1] 5"
            ],
            "text/latex": "5",
            "text/markdown": "5",
            "text/html": [
              "5"
            ]
          },
          "metadata": {
            "tags": []
          }
        }
      ]
    },
    {
      "cell_type": "markdown",
      "metadata": {
        "colab_type": "text",
        "id": "XEGmz5K4zjDm"
      },
      "source": [
        "Matrix\n",
        "\n",
        "Rank: 2, 2D tensor, Axes: 2 (rows, columns)\n",
        "\n",
        "Data: \"Vector data\"—2D tensors of shape (samples, features)\n"
      ]
    },
    {
      "cell_type": "code",
      "metadata": {
        "id": "MW6-l2oZzulJ",
        "colab_type": "code",
        "colab": {
          "base_uri": "https://localhost:8080/",
          "height": 195
        },
        "outputId": "07e08586-cae7-44c4-84d9-25542c936a5f"
      },
      "source": [
        "x <- matrix(rep(4,3*5),nrow = 3, ncol = 5)\n",
        "x\n",
        "dim(x)"
      ],
      "execution_count": 14,
      "outputs": [
        {
          "output_type": "display_data",
          "data": {
            "text/plain": [
              "     [,1] [,2] [,3] [,4] [,5]\n",
              "[1,] 4    4    4    4    4   \n",
              "[2,] 4    4    4    4    4   \n",
              "[3,] 4    4    4    4    4   "
            ],
            "text/latex": "A matrix: 3 × 5 of type dbl\n\\begin{tabular}{lllll}\n\t 4 & 4 & 4 & 4 & 4\\\\\n\t 4 & 4 & 4 & 4 & 4\\\\\n\t 4 & 4 & 4 & 4 & 4\\\\\n\\end{tabular}\n",
            "text/markdown": "\nA matrix: 3 × 5 of type dbl\n\n| 4 | 4 | 4 | 4 | 4 |\n| 4 | 4 | 4 | 4 | 4 |\n| 4 | 4 | 4 | 4 | 4 |\n\n",
            "text/html": [
              "<table>\n",
              "<caption>A matrix: 3 × 5 of type dbl</caption>\n",
              "<tbody>\n",
              "\t<tr><td>4</td><td>4</td><td>4</td><td>4</td><td>4</td></tr>\n",
              "\t<tr><td>4</td><td>4</td><td>4</td><td>4</td><td>4</td></tr>\n",
              "\t<tr><td>4</td><td>4</td><td>4</td><td>4</td><td>4</td></tr>\n",
              "</tbody>\n",
              "</table>\n"
            ]
          },
          "metadata": {
            "tags": []
          }
        },
        {
          "output_type": "display_data",
          "data": {
            "text/plain": [
              "[1] 3 5"
            ],
            "text/latex": "\\begin{enumerate*}\n\\item 3\n\\item 5\n\\end{enumerate*}\n",
            "text/markdown": "1. 3\n2. 5\n\n\n",
            "text/html": [
              "<ol class=list-inline>\n",
              "\t<li>3</li>\n",
              "\t<li>5</li>\n",
              "</ol>\n"
            ]
          },
          "metadata": {
            "tags": []
          }
        }
      ]
    },
    {
      "cell_type": "markdown",
      "metadata": {
        "id": "QMJ_DjLb0NY1",
        "colab_type": "text"
      },
      "source": [
        "Cube\n",
        "\n",
        "Rank: 3, 3D tensor, Axes: 3 (rows, columns, depth)\n",
        "\n",
        "Data: Timeseries data or sequence data—3D tensors of shape (samples, timesteps,\n",
        "features)"
      ]
    },
    {
      "cell_type": "code",
      "metadata": {
        "id": "3QuqebQ-0X3s",
        "colab_type": "code",
        "colab": {
          "base_uri": "https://localhost:8080/",
          "height": 113
        },
        "outputId": "7e840854-8645-4fe9-9b3c-88da73c8f3e5"
      },
      "source": [
        "x <- array(rep(9,2*3*2),dim = c(2,3,2))\n",
        "str(x)\n",
        "dim(x)\n"
      ],
      "execution_count": 16,
      "outputs": [
        {
          "output_type": "stream",
          "text": [
            " num [1:2, 1:3, 1:2] 9 9 9 9 9 9 9 9 9 9 ...\n"
          ],
          "name": "stdout"
        },
        {
          "output_type": "display_data",
          "data": {
            "text/plain": [
              "[1] 2 3 2"
            ],
            "text/latex": "\\begin{enumerate*}\n\\item 2\n\\item 3\n\\item 2\n\\end{enumerate*}\n",
            "text/markdown": "1. 2\n2. 3\n3. 2\n\n\n",
            "text/html": [
              "<ol class=list-inline>\n",
              "\t<li>2</li>\n",
              "\t<li>3</li>\n",
              "\t<li>2</li>\n",
              "</ol>\n"
            ]
          },
          "metadata": {
            "tags": []
          }
        }
      ]
    },
    {
      "cell_type": "markdown",
      "metadata": {
        "id": "2RIFt6kRH19U",
        "colab_type": "text"
      },
      "source": [
        "Images—4D tensors of shape (samples, height, width, channels) or (samples,\n",
        "channels, height, width)\n",
        "\n",
        "Video—5D tensors of shape (samples, frames, height, width, channels) or\n",
        "(samples, frames, channels, height, width)\n"
      ]
    }
  ]
}