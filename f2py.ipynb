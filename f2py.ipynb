{
  "nbformat": 4,
  "nbformat_minor": 0,
  "metadata": {
    "colab": {
      "name": "f2py.ipynb",
      "provenance": [],
      "include_colab_link": true
    },
    "kernelspec": {
      "name": "python3",
      "display_name": "Python 3"
    }
  },
  "cells": [
    {
      "cell_type": "markdown",
      "metadata": {
        "id": "view-in-github",
        "colab_type": "text"
      },
      "source": [
        "<a href=\"https://colab.research.google.com/github/jeffblackadar/image_work/blob/master/f2py.ipynb\" target=\"_parent\"><img src=\"https://colab.research.google.com/assets/colab-badge.svg\" alt=\"Open In Colab\"/></a>"
      ]
    },
    {
      "cell_type": "markdown",
      "metadata": {
        "id": "NNs_Ql-QL0T6",
        "colab_type": "text"
      },
      "source": [
        "Upload primes.f95\n",
        "\n",
        "Then compile it by running the statement below."
      ]
    },
    {
      "cell_type": "code",
      "metadata": {
        "id": "SRhIhaCiLuwq",
        "colab_type": "code",
        "colab": {}
      },
      "source": [
        "!python -m numpy.f2py -c primes.f95 -m primes"
      ],
      "execution_count": 0,
      "outputs": []
    },
    {
      "cell_type": "markdown",
      "metadata": {
        "id": "9lZx-AWkMV_o",
        "colab_type": "text"
      },
      "source": [
        "See if primes can be read."
      ]
    },
    {
      "cell_type": "code",
      "metadata": {
        "id": "ElYlc00vMTEt",
        "colab_type": "code",
        "colab": {}
      },
      "source": [
        "import primes\n",
        "print(primes.__doc__)"
      ],
      "execution_count": 0,
      "outputs": []
    },
    {
      "cell_type": "code",
      "metadata": {
        "id": "ZTC1a-8dMclu",
        "colab_type": "code",
        "colab": {}
      },
      "source": [
        "print(primes.logical_to_integer.__doc__)\n",
        "print(primes.sievej.__doc__)"
      ],
      "execution_count": 0,
      "outputs": []
    },
    {
      "cell_type": "code",
      "metadata": {
        "id": "d4c4rQ1pMpm9",
        "colab_type": "code",
        "colab": {
          "base_uri": "https://localhost:8080/",
          "height": 51
        },
        "outputId": "b90b4cc0-ce27-4ed5-d6cf-287723d6d1a3"
      },
      "source": [
        "sieve_array = primes.sievej(100)\n",
        "prime_numbers = primes.logical_to_integer(sieve_array, sum(sieve_array))\n",
        "print(prime_numbers)"
      ],
      "execution_count": 4,
      "outputs": [
        {
          "output_type": "stream",
          "text": [
            "[ 2  3  5  7 11 13 17 19 23 29 31 37 41 43 47 53 59 61 67 71 73 79 83 89\n",
            " 97]\n"
          ],
          "name": "stdout"
        }
      ]
    }
  ]
}