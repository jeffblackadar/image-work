{
  "nbformat": 4,
  "nbformat_minor": 0,
  "metadata": {
    "colab": {
      "name": "coin_model_performance.ipynb",
      "provenance": [],
      "collapsed_sections": [],
      "include_colab_link": true
    },
    "kernelspec": {
      "name": "python3",
      "display_name": "Python 3"
    }
  },
  "cells": [
    {
      "cell_type": "markdown",
      "metadata": {
        "id": "view-in-github",
        "colab_type": "text"
      },
      "source": [
        "<a href=\"https://colab.research.google.com/github/jeffblackadar/image_work/blob/master/coin_model_performance.ipynb\" target=\"_parent\"><img src=\"https://colab.research.google.com/assets/colab-badge.svg\" alt=\"Open In Colab\"/></a>"
      ]
    },
    {
      "cell_type": "code",
      "metadata": {
        "id": "vb7tPGkWZmJD",
        "colab_type": "code",
        "outputId": "f75443c9-6d9c-484a-d9a9-8047ee52df94",
        "colab": {
          "base_uri": "https://localhost:8080/",
          "height": 122
        }
      },
      "source": [
        "from google.colab import drive\n",
        "drive.mount('/content/drive')"
      ],
      "execution_count": 1,
      "outputs": [
        {
          "output_type": "stream",
          "text": [
            "Go to this URL in a browser: https://accounts.google.com/o/oauth2/auth?client_id=947318989803-6bn6qk8qdgf4n4g3pfee6491hc0brc4i.apps.googleusercontent.com&redirect_uri=urn%3aietf%3awg%3aoauth%3a2.0%3aoob&response_type=code&scope=email%20https%3a%2f%2fwww.googleapis.com%2fauth%2fdocs.test%20https%3a%2f%2fwww.googleapis.com%2fauth%2fdrive%20https%3a%2f%2fwww.googleapis.com%2fauth%2fdrive.photos.readonly%20https%3a%2f%2fwww.googleapis.com%2fauth%2fpeopleapi.readonly\n",
            "\n",
            "Enter your authorization code:\n",
            "··········\n",
            "Mounted at /content/drive\n"
          ],
          "name": "stdout"
        }
      ]
    },
    {
      "cell_type": "code",
      "metadata": {
        "id": "2h87LL93Zw2y",
        "colab_type": "code",
        "colab": {}
      },
      "source": [
        "!pip install --upgrade -q gspread"
      ],
      "execution_count": 0,
      "outputs": []
    },
    {
      "cell_type": "code",
      "metadata": {
        "id": "VYBQ2THbZ4z5",
        "colab_type": "code",
        "colab": {}
      },
      "source": [
        "from google.colab import auth\n",
        "auth.authenticate_user()"
      ],
      "execution_count": 0,
      "outputs": []
    },
    {
      "cell_type": "code",
      "metadata": {
        "id": "VnPtuqxGZ-BB",
        "colab_type": "code",
        "outputId": "0a40f1f4-ce47-4d9c-f261-5a59568db5c3",
        "colab": {
          "base_uri": "https://localhost:8080/",
          "height": 346
        }
      },
      "source": [
        "import gspread\n",
        "from oauth2client.client import GoogleCredentials\n",
        "import pandas as pd\n",
        "import numpy as np\n",
        "import seaborn as sns\n",
        "\n",
        "gc = gspread.authorize(GoogleCredentials.get_application_default())\n",
        "\n",
        "# Open the coin_models spreadsheet\n",
        "sh = gc.open('coin_models_2')\n",
        "worksheet_config = sh.worksheet(title=\"config\")\n",
        "worksheet_models = sh.worksheet(title=\"models\")\n",
        "\n",
        "#models = [[1,730]]\n",
        "models = [[730,1460]]\n",
        "#models = [[1,1460]]\n",
        "\n",
        "for m in models:\n",
        "  print(m[0])\n",
        "  print(m[1])\n",
        "  BATCH_SIZE_col_list = worksheet_models.col_values(2) #, 'batch_size')\n",
        "  BATCH_SIZE_col_list = list(map(int,BATCH_SIZE_col_list[m[0]:m[1]]))\n",
        "  filters1_col_list = worksheet_models.col_values(3) #, 'filters1')\n",
        "  filters1_col_list = list(map(int,filters1_col_list[m[0]:m[1]]))\n",
        "  dropout1_col_list = worksheet_models.col_values(4) #, 'dropout1')\n",
        "  dropout1_col_list = list(map(float,dropout1_col_list[m[0]:m[1]]))\n",
        "  filters2_col_list = worksheet_models.col_values(5) #, 'filters2')\n",
        "  filters2_col_list = list(map(int,filters2_col_list[m[0]:m[1]]))\n",
        "  dropout2_col_list = worksheet_models.col_values(6) #, 'dropout2')\n",
        "  dropout2_col_list = list(map(float,dropout2_col_list[m[0]:m[1]]))\n",
        "  filters3_col_list = worksheet_models.col_values(7) #, 'filters3')\n",
        "  filters3_col_list = list(map(int,filters3_col_list[m[0]:m[1]]))\n",
        "  dropout3_col_list = worksheet_models.col_values(8) #, 'dropout3')\n",
        "  dropout3_col_list = list(map(float,dropout3_col_list[m[0]:m[1]]))\n",
        "  loss_col_list = worksheet_models.col_values(10)\n",
        "  loss_col_list = list(map(float,loss_col_list[m[0]:m[1]]))\n",
        "  accuracy_col_list = worksheet_models.col_values(11)\n",
        "  accuracy_col_list = list(map(float,accuracy_col_list[m[0]:m[1]]))\n",
        "  model_performance = pd.DataFrame(np.column_stack([BATCH_SIZE_col_list,filters1_col_list,dropout1_col_list,filters2_col_list,dropout2_col_list,filters3_col_list,dropout3_col_list,loss_col_list,accuracy_col_list]), columns=['batch_size','filters1','dropout1','filters2','dropout2','filters3','dropout3','loss','accuracy'])\n",
        "  sns.heatmap(model_performance.corr(), square=True, cmap='RdYlGn')\n",
        "\n",
        "    "
      ],
      "execution_count": 5,
      "outputs": [
        {
          "output_type": "stream",
          "text": [
            "730\n",
            "1460\n"
          ],
          "name": "stdout"
        },
        {
          "output_type": "display_data",
          "data": {
            "image/png": "[encoded data removed]",
            "text/plain": [
              "<Figure size 432x288 with 2 Axes>"
            ]
          },
          "metadata": {
            "tags": []
          }
        }
      ]
    }
  ]
}