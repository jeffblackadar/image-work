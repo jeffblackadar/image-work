{
  "nbformat": 4,
  "nbformat_minor": 0,
  "metadata": {
    "colab": {
      "name": "coin_photo_processor_v5.ipynb",
      "version": "0.3.2",
      "provenance": [],
      "collapsed_sections": [],
      "toc_visible": true,
      "include_colab_link": true
    },
    "kernelspec": {
      "name": "python3",
      "display_name": "Python 3"
    }
  },
  "cells": [
    {
      "cell_type": "markdown",
      "metadata": {
        "id": "view-in-github",
        "colab_type": "text"
      },
      "source": [
        "<a href=\"https://colab.research.google.com/github/jeffblackadar/image_work/blob/master/coin_photo_processor_v5.ipynb\" target=\"_parent\"><img src=\"https://colab.research.google.com/assets/colab-badge.svg\" alt=\"Open In Colab\"/></a>"
      ]
    },
    {
      "cell_type": "markdown",
      "metadata": {
        "id": "YiN1TeuIr6Vq",
        "colab_type": "text"
      },
      "source": [
        "# Coin photo processing.\n",
        "This program opens a raw image of a coin, removes the background, crops it and then crops it again to get just to portrait. \n",
        "it does just whitespace cropping, 2 coins in column on left side of photo.\n",
        "\n",
        "## First mount the Google drive:"
      ]
    },
    {
      "cell_type": "code",
      "metadata": {
        "id": "b957AxkQrooi",
        "colab_type": "code",
        "outputId": "f37aece5-cfbb-432f-d708-74d1d2ef15a0",
        "colab": {
          "base_uri": "https://localhost:8080/",
          "height": 122
        }
      },
      "source": [
        "# Mount the drive first.\n",
        "from google.colab import drive\n",
        "drive.mount('/content/drive')"
      ],
      "execution_count": 0,
      "outputs": [
        {
          "output_type": "stream",
          "text": [
            "Go to this URL in a browser: https://accounts.google.com/o/oauth2/auth?client_id=947318989803-6bn6qk8qdgf4n4g3pfee6491hc0brc4i.apps.googleusercontent.com&redirect_uri=urn%3Aietf%3Awg%3Aoauth%3A2.0%3Aoob&scope=email%20https%3A%2F%2Fwww.googleapis.com%2Fauth%2Fdocs.test%20https%3A%2F%2Fwww.googleapis.com%2Fauth%2Fdrive%20https%3A%2F%2Fwww.googleapis.com%2Fauth%2Fdrive.photos.readonly%20https%3A%2F%2Fwww.googleapis.com%2Fauth%2Fpeopleapi.readonly&response_type=code\n",
            "\n",
            "Enter your authorization code:\n",
            "··········\n",
            "Mounted at /content/drive\n"
          ],
          "name": "stdout"
        }
      ]
    },
    {
      "cell_type": "markdown",
      "metadata": {
        "id": "rPdPMLpnf2QC",
        "colab_type": "text"
      },
      "source": [
        "# Cropping and saving of images"
      ]
    },
    {
      "cell_type": "code",
      "metadata": {
        "id": "MwcHuzKorM98",
        "colab_type": "code",
        "colab": {}
      },
      "source": [
        "# Working coin image processor - just whitespace cropping, 2 coins in column on left side of photo\n",
        "import numpy as np\n",
        "import cv2\n",
        "import time\n",
        "from google.colab.patches import cv2_imshow\n",
        "\n",
        "def img_remove_whitespace(imgo):\n",
        "    print(\"start \" + str(time.time()))\n",
        "    #convert to black and white - make it simpler?\n",
        "    # define a threshold, 128 is the middle of black and white in grey scale\n",
        "    thresh = 128\n",
        "\n",
        "    # assign blue channel to zeros\n",
        "    img_binary = cv2.threshold(imgo, thresh, 255, cv2.THRESH_BINARY)[1]\n",
        "    #cv2_imshow(img_binary) \n",
        "    \n",
        "    gray_img = cv2.cvtColor(img_binary, cv2.COLOR_BGR2GRAY)\n",
        "    #cv2_imshow(gray_img) \n",
        "    print(gray_img.shape)\n",
        "\n",
        "    # Thanks https://likegeeks.com/python-image-processing/\n",
        "    # croppedImage = img[startRow:endRow, startCol:endCol]\n",
        "      \n",
        "    # allow for 254 (slightly less than every pixel totally white to allow some specks)\n",
        "    #count in from the right edge until the mean of each column is less than 255\n",
        "    for img_row_top in range(0,round(gray_img.shape[0]/2)):    \n",
        "        if np.mean(gray_img,axis = 1)[img_row_top] < 254:\n",
        "            break \n",
        "    print(img_row_top)\n",
        "    for img_row_bottom in range(gray_img.shape[0]-1,round(gray_img.shape[0]/2),-1):\n",
        "        if np.mean(gray_img,axis = 1)[img_row_bottom] < 254:\n",
        "          break \n",
        "    print(img_row_bottom)    \n",
        "    for img_col_left in range(1,round(gray_img.shape[1]/2)):\n",
        "        if np.mean(gray_img,axis = 0)[img_col_left] < 254:\n",
        "            break \n",
        "    print(img_col_left)    \n",
        "    for img_col_right in range(gray_img.shape[1]-1,round(gray_img.shape[1]/2),-1):\n",
        "        if np.mean(gray_img,axis = 0)[img_col_right] < 254:\n",
        "            break\n",
        "    print(img_col_right)\n",
        "          \n",
        "    imgo_cropped = imgo[img_row_top:img_row_bottom,img_col_left:img_col_right,0:3]\n",
        "    print(\"Whitespace removal\")\n",
        "    print(imgo_cropped.shape)\n",
        "    \n",
        "    # cv2_imshow(imgo_cropped) \n",
        "    print(\"end \" + str(time.time()))\n",
        "    return(imgo_cropped)\n",
        "  \n",
        "# take second element for sort\n",
        "def takeThird(elem):\n",
        "    return elem[2] \n",
        "  \n",
        "\n",
        "\n",
        "def img_remove_background_using_black(imgo):  \n",
        "    img_remove_background_using_black_success = False\n",
        "    output = imgo.copy()\n",
        "    gray_img = cv2.cvtColor(output, cv2.COLOR_BGR2GRAY)\n",
        "    \n",
        "    # convert to black and white - make it simpler?\n",
        "    # define a threshold, 128 is the middle of black and white in grey scale\n",
        "    thresh = 128\n",
        "\n",
        "    # assign blue channel to zeros\n",
        "    img_binary = cv2.threshold(gray_img, thresh, 255, cv2.THRESH_BINARY)[1]\n",
        "    # cv2_imshow(img_binary) \n",
        "    \n",
        "    # It's more efficient to crop am image of just the coin using whitespace, so try that first.\n",
        "    # If not successful try to find a circle.\n",
        "    # A penny is approximately 540 pixels in diameter with this method and settings\n",
        "    # The photo is not cropped correctly if the radius is too large or small.\n",
        "    good_coin_radius = 410\n",
        "    output = img_remove_whitespace(output)\n",
        "    print(\"Removed whitespace.\")\n",
        "    print(output.shape)\n",
        "    # cv2_imshow(output)\n",
        "    width_half = round(output.shape[0]/2)\n",
        "    height_half = round(output.shape[1]/2)\n",
        "    r = width_half\n",
        "    if (r < good_coin_radius*1.1) and (r > good_coin_radius*0.9):\n",
        "        #Add a white circle to cover other background elements and coin legend    \n",
        "        cv2.circle(output,(width_half, height_half), round(r*1.414), (255,255,255), round(r*1.45))\n",
        "        print(\"This image looks right.\")\n",
        "        # cv2_imshow(output)   \n",
        "        img_remove_background_using_black_success = True\n",
        "        #crop after adding circle\n",
        "        output = img_remove_whitespace(output)\n",
        "        return([img_remove_background_using_black_success,output])\n",
        "    if r > good_coin_radius*1.05:\n",
        "        print(\"The image of this coin is too large after background removal.  It may have shadows or debris beyond the coin.\")\n",
        "        cv2_imshow(output)\n",
        "        return([False])\n",
        "    if r < good_coin_radius*0.95:\n",
        "        print(\"The image of this coin is too small after background removal.  It may be over exposed.\")\n",
        "        cv2_imshow(output)\n",
        "        return([False])\n",
        "      \n",
        "    return([False])\n",
        "  \n",
        "  \n",
        "# https://likegeeks.com/python-image-processing/\n",
        "import cv2\n",
        "from google.colab.patches import cv2_imshow\n",
        "# Set this for IMG_0XXX where XXX = range\n",
        "for batch_num in range(318,328):\n",
        "    img = cv2.imread(\"/content/drive/My Drive/coin-image-processor/photos/raw/IMG_0\"+str(batch_num)+\".JPG\")\n",
        "    print(\"/content/drive/My Drive/coin-image-processor/photos/raw/IMG_0\"+str(batch_num)+\".JPG\")\n",
        "\n",
        "    #Split up the image into 4 images of 1 coin each\n",
        "    width_half = round(img.shape[0]/2)\n",
        "    height_half = round(img.shape[1]/2)\n",
        "\n",
        "    coins = []\n",
        "    coins.append(img[0:height_half*1, 0:width_half*1])\n",
        "    coins.append(img[height_half*1:height_half*2, 0:width_half*1])\n",
        "\n",
        "    for coin_num in range(0,2):\n",
        "        print(\"coin_num \" + str(coin_num))\n",
        "        #cv2_imshow(coins[coin_num]) \n",
        "\n",
        "        coin1img_no_background = img_remove_background_using_black(coins[coin_num])\n",
        "        if not coin1img_no_background[0]==False:    \n",
        "            cv2_imshow(coin1img_no_background[1]) \n",
        "            cv2.imwrite(\"/content/drive/My Drive/coin-image-processor/photos/elizabeth_young/eII\"+str(batch_num)+str(coin_num)+\".png\", coin1img_no_background[1])\n",
        "        else:\n",
        "            print(\"could not get this image.\")\n",
        "\n",
        "\n",
        "\n",
        "\n"
      ],
      "execution_count": 0,
      "outputs": []
    }
  ]
}